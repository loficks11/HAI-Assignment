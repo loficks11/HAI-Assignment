{
 "cells": [
  {
   "cell_type": "code",
   "execution_count": 1,
   "id": "e329bd1e",
   "metadata": {},
   "outputs": [
    {
     "name": "stdout",
     "output_type": "stream",
     "text": [
      "Result tensor shape: torch.Size([2, 3, 5])\n",
      "Result tensor dtype: torch.float32\n",
      "tensor([[[2.4753, 2.4753, 2.4753, 2.4753, 2.4753],\n",
      "         [1.5885, 1.5885, 1.5885, 1.5885, 1.5885],\n",
      "         [2.2454, 2.2454, 2.2454, 2.2454, 2.2454]],\n",
      "\n",
      "        [[1.4124, 1.4124, 1.4124, 1.4124, 1.4124],\n",
      "         [2.1134, 2.1134, 2.1134, 2.1134, 2.1134],\n",
      "         [2.6723, 2.6723, 2.6723, 2.6723, 2.6723]]])\n"
     ]
    }
   ],
   "source": [
    "import torch\n",
    "import numpy as np\n",
    "\n",
    "tensor1 = torch.rand(2, 3, 4)\n",
    "\n",
    "np_array = np.ones((2, 4, 5))\n",
    "\n",
    "tensor2 = torch.tensor(np_array, dtype=torch.float32)\n",
    "\n",
    "result = torch.bmm(tensor1, tensor2)\n",
    "\n",
    "print(\"Result tensor shape:\", result.shape)\n",
    "print(\"Result tensor dtype:\", result.dtype)\n",
    "print(result)"
   ]
  },
  {
   "cell_type": "code",
   "execution_count": null,
   "id": "80d4161b",
   "metadata": {},
   "outputs": [],
   "source": []
  }
 ],
 "metadata": {
  "kernelspec": {
   "display_name": "myenv",
   "language": "python",
   "name": "python3"
  },
  "language_info": {
   "codemirror_mode": {
    "name": "ipython",
    "version": 3
   },
   "file_extension": ".py",
   "mimetype": "text/x-python",
   "name": "python",
   "nbconvert_exporter": "python",
   "pygments_lexer": "ipython3",
   "version": "3.10.16"
  }
 },
 "nbformat": 4,
 "nbformat_minor": 5
}
