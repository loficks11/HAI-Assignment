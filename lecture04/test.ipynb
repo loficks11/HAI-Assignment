{
 "cells": [
  {
   "cell_type": "code",
   "execution_count": null,
   "metadata": {},
   "outputs": [
    {
     "name": "stdout",
     "output_type": "stream",
     "text": [
      "k값별 정확도:\n",
      "k = 1 → 정확도: 1.00\n",
      "k = 2 → 정확도: 1.00\n",
      "k = 3 → 정확도: 1.00\n",
      "k = 4 → 정확도: 1.00\n",
      "k = 5 → 정확도: 0.67\n",
      "k = 6 → 정확도: 0.67\n",
      "k = 7 → 정확도: 0.67\n",
      "\n",
      "✅ 최적의 k값은: 1 (정확도: 1.00)\n"
     ]
    }
   ],
   "source": [
    "'''\n",
    "import numpy as np\n",
    "\n",
    "# 1. euclidean distance\n",
    "def euclidean_distance(x1, x2):\n",
    "    return np.sqrt(np.sum((x1 - x2)**2))  # np.sqrt -> 루트\n",
    "\n",
    "# 2. knn prediction\n",
    "def knn_predict(x, X_train, y_train, k):\n",
    "    distances = [euclidean_distance(x, xi) for xi in X_train]  # calculate distance, xi는 훈련용, x는 검증용\n",
    "    k_indices = np.argsort(distances)[:k]                      # 거리 작은 순서대로 인덱스\n",
    "    k_labels = y_train[k_indices]                              # 라벨 선택\n",
    "\n",
    "    # 다수결\n",
    "    labels, counts = np.unique(k_labels, return_counts=True)   # 중복 제거 + 정렬 + 개수 세기\n",
    "    return labels[np.argmax(counts)]                           # 개수가 가장 많은 클래스 반환\n",
    "\n",
    "# 3. compute accuracy\n",
    "def compute_accuracy(X_val, y_val, X_train, y_train, k):\n",
    "    correct = 0\n",
    "    for x, y in zip(X_val, y_val):\n",
    "        pred = knn_predict(x, X_train, y_train, k)\n",
    "        if pred == y:\n",
    "            correct += 1\n",
    "    return correct / len(y_val)\n",
    "\n",
    "# 4. data\n",
    "X = np.array([\n",
    "    [1.0, 2.0], [1.5, 1.8], [5.0, 8.0],\n",
    "    [6.0, 9.0], [1.0, 0.6], [9.0, 11.0],\n",
    "    [8.0, 2.0], [10.0, 2.0], [9.0, 3.0]\n",
    "])\n",
    "y = np.array(['A', 'A', 'B', 'B', 'A', 'B', 'B', 'B', 'B'])  # 9개 라벨\n",
    "\n",
    "# data slice\n",
    "np.random.seed(42)\n",
    "indices = np.random.permutation(len(X))   # random index\n",
    "split = int(0.7 * len(X))                 # 70% .. 6 for training\n",
    "\n",
    "train_idx = indices[:split]\n",
    "val_idx = indices[split:]\n",
    "# slicing\n",
    "\n",
    "X_train, y_train = X[train_idx], y[train_idx]\n",
    "X_val, y_val = X[val_idx], y[val_idx]\n",
    "\n",
    "# 6. k 최적화\n",
    "k_candidates = range(1, 8)  # k값 후보: 1 ~ 7\n",
    "best_k = None\n",
    "best_acc = 0.0\n",
    "\n",
    "print(\"k값별 정확도:\")\n",
    "for k in k_candidates:\n",
    "    acc = compute_accuracy(X_val, y_val, X_train, y_train, k)\n",
    "    print(f\"k = {k} → 정확도: {acc:.2f}\")\n",
    "    if acc > best_acc:\n",
    "        best_acc = acc\n",
    "        best_k = k\n",
    "\n",
    "print(f\"\\n✅ 최적의 k값은: {best_k} (정확도: {best_acc:.2f})\")\n",
    "'''"
   ]
  },
  {
   "cell_type": "code",
   "execution_count": null,
   "metadata": {},
   "outputs": [],
   "source": []
  }
 ],
 "metadata": {
  "kernelspec": {
   "display_name": "myenv",
   "language": "python",
   "name": "python3"
  },
  "language_info": {
   "codemirror_mode": {
    "name": "ipython",
    "version": 3
   },
   "file_extension": ".py",
   "mimetype": "text/x-python",
   "name": "python",
   "nbconvert_exporter": "python",
   "pygments_lexer": "ipython3",
   "version": "3.10.16"
  }
 },
 "nbformat": 4,
 "nbformat_minor": 2
}
