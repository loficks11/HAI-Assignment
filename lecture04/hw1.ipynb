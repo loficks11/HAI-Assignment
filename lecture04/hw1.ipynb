{
 "cells": [
  {
   "cell_type": "code",
   "execution_count": 2,
   "metadata": {},
   "outputs": [
    {
     "name": "stdout",
     "output_type": "stream",
     "text": [
      "k값별 정확도:\n",
      "k = 1 → 정확도: 0.91\n",
      "k = 2 → 정확도: 0.94\n",
      "k = 3 → 정확도: 0.94\n",
      "k = 4 → 정확도: 0.94\n",
      "k = 5 → 정확도: 0.94\n",
      "k = 6 → 정확도: 0.94\n",
      "k = 7 → 정확도: 0.94\n",
      "k = 8 → 정확도: 0.94\n",
      "k = 9 → 정확도: 0.94\n",
      "k = 10 → 정확도: 0.94\n",
      "k = 11 → 정확도: 0.94\n",
      "k = 12 → 정확도: 0.94\n",
      "k = 13 → 정확도: 0.94\n",
      "k = 14 → 정확도: 0.97\n",
      "k = 15 → 정확도: 0.97\n",
      "\n",
      "✅ 최적의 k값은: 14 (정확도: 0.97)\n",
      "DATA#131 prediction : 2, actual : 2\n",
      "DATA#132 prediction : 2, actual : 2\n"
     ]
    }
   ],
   "source": [
    "import numpy as np\n",
    "import pandas as pd\n",
    "from sklearn.datasets import load_iris\n",
    "\n",
    "# 1. 유클리드 거리 함수\n",
    "def euclidean_distance(x1, x2):\n",
    "    return np.sqrt(np.sum((x1 - x2)**2))\n",
    "\n",
    "# 2. KNN 예측 함수\n",
    "def knn_predict(x, X_train, y_train, k): # x 예측 대상, 나머지 학습\n",
    "    distances = [euclidean_distance(x, xi) for xi in X_train] # distance list\n",
    "    k_indices = np.argsort(distances)[:k] \n",
    "    k_labels = y_train[k_indices]\n",
    "    \n",
    "    labels, counts = np.unique(k_labels, return_counts=True)\n",
    "    return labels[np.argmax(counts)] # return prediction of y\n",
    "\n",
    "# 3. 정확도 평가 함수\n",
    "def compute_accuracy(X_val, y_val, X_train, y_train, k):\n",
    "    correct = 0\n",
    "    for x, y in zip(X_val, y_val):\n",
    "        pred = knn_predict(x, X_train, y_train, k)\n",
    "        if pred == y:\n",
    "            correct += 1\n",
    "    return correct / len(y_val)\n",
    "\n",
    "# 4. 데이터 불러오기 및 전처리\n",
    "iris = load_iris()\n",
    "X = iris.data[:130, [2, 3]]  # petal length, petal width만 사용\n",
    "y = iris.target[:130]        # 130개 샘플만 사용\n",
    "\n",
    "# 5. 훈련/검증 데이터 분할\n",
    "np.random.seed(10000)\n",
    "indices = np.random.permutation(len(X)) # index 섞기\n",
    "split = int(0.75 * len(X))  # 약 97개 훈련, 33개 검증, split은 분할 index\n",
    "\n",
    "train_idx = indices[:split]\n",
    "val_idx = indices[split:]\n",
    "# 데이터 분할\n",
    "\n",
    "X_train, y_train = X[train_idx], y[train_idx]\n",
    "X_val, y_val = X[val_idx], y[val_idx]\n",
    "\n",
    "# 6. k값 최적화\n",
    "k_candidates = range(1, 16)\n",
    "best_k = None\n",
    "best_acc = 0.0\n",
    "\n",
    "print(\"k값별 정확도:\")\n",
    "for k in k_candidates:\n",
    "    acc = compute_accuracy(X_val, y_val, X_train, y_train, k)\n",
    "    print(f\"k = {k} → 정확도: {acc:.2f}\")\n",
    "    if acc > best_acc:\n",
    "        best_acc = acc\n",
    "        best_k = k\n",
    "\n",
    "print(f\"\\n✅ 최적의 k값은: {best_k} (정확도: {best_acc:.2f})\")\n",
    "\n",
    "print(f\"DATA#131 prediction : {knn_predict(iris.data[130, [2, 3]], X_train, y_train, best_k)}, actual : {iris.target[130]}\")\n",
    "print(f\"DATA#132 prediction : {knn_predict(iris.data[131, [2, 3]], X_train, y_train, best_k)}, actual : {iris.target[131]}\")"
   ]
  },
  {
   "cell_type": "code",
   "execution_count": null,
   "metadata": {},
   "outputs": [],
   "source": []
  }
 ],
 "metadata": {
  "kernelspec": {
   "display_name": "myenv",
   "language": "python",
   "name": "python3"
  },
  "language_info": {
   "codemirror_mode": {
    "name": "ipython",
    "version": 3
   },
   "file_extension": ".py",
   "mimetype": "text/x-python",
   "name": "python",
   "nbconvert_exporter": "python",
   "pygments_lexer": "ipython3",
   "version": "3.10.16"
  }
 },
 "nbformat": 4,
 "nbformat_minor": 2
}
